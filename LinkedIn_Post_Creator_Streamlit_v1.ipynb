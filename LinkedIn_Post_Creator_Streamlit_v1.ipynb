{
  "nbformat": 4,
  "nbformat_minor": 0,
  "metadata": {
    "colab": {
      "provenance": [],
      "collapsed_sections": [
        "PLG0D394iB38"
      ],
      "authorship_tag": "ABX9TyO4A+0t+VN2Irtat//DQgMi",
      "include_colab_link": true
    },
    "kernelspec": {
      "name": "python3",
      "display_name": "Python 3"
    },
    "language_info": {
      "name": "python"
    }
  },
  "cells": [
    {
      "cell_type": "markdown",
      "metadata": {
        "id": "view-in-github",
        "colab_type": "text"
      },
      "source": [
        "<a href=\"https://colab.research.google.com/github/saurabhlalsaxena/LinkedIn-Post-Creator/blob/main/LinkedIn_Post_Creator_Streamlit_v1.ipynb\" target=\"_parent\"><img src=\"https://colab.research.google.com/assets/colab-badge.svg\" alt=\"Open In Colab\"/></a>"
      ]
    },
    {
      "cell_type": "markdown",
      "source": [
        "#Setup"
      ],
      "metadata": {
        "id": "hB01cx_rhxaJ"
      }
    },
    {
      "cell_type": "code",
      "execution_count": 1,
      "metadata": {
        "id": "bZ7Iw88SHYrT"
      },
      "outputs": [],
      "source": [
        "!pip install -q linkedin-api-client"
      ]
    },
    {
      "cell_type": "code",
      "source": [
        "!pip install -q -U langchain-cli langchain langchain_core langgraph langchain_community"
      ],
      "metadata": {
        "colab": {
          "base_uri": "https://localhost:8080/"
        },
        "id": "oQP6nq_NH3DA",
        "outputId": "22d6a3f4-9b88-4a5c-f83c-78e5f75de864"
      },
      "execution_count": 2,
      "outputs": [
        {
          "output_type": "stream",
          "name": "stdout",
          "text": [
            "\u001b[2K     \u001b[90m━━━━━━━━━━━━━━━━━━━━━━━━━━━━━━━━━━━━━━━━\u001b[0m \u001b[32m50.4/50.4 kB\u001b[0m \u001b[31m3.4 MB/s\u001b[0m eta \u001b[36m0:00:00\u001b[0m\n",
            "\u001b[2K   \u001b[90m━━━━━━━━━━━━━━━━━━━━━━━━━━━━━━━━━━━━━━━━\u001b[0m \u001b[32m116.4/116.4 kB\u001b[0m \u001b[31m4.0 MB/s\u001b[0m eta \u001b[36m0:00:00\u001b[0m\n",
            "\u001b[2K   \u001b[90m━━━━━━━━━━━━━━━━━━━━━━━━━━━━━━━━━━━━━━━━\u001b[0m \u001b[32m1.0/1.0 MB\u001b[0m \u001b[31m20.6 MB/s\u001b[0m eta \u001b[36m0:00:00\u001b[0m\n",
            "\u001b[2K   \u001b[90m━━━━━━━━━━━━━━━━━━━━━━━━━━━━━━━━━━━━━━━━\u001b[0m \u001b[32m400.9/400.9 kB\u001b[0m \u001b[31m22.5 MB/s\u001b[0m eta \u001b[36m0:00:00\u001b[0m\n",
            "\u001b[2K   \u001b[90m━━━━━━━━━━━━━━━━━━━━━━━━━━━━━━━━━━━━━━━━\u001b[0m \u001b[32m107.4/107.4 kB\u001b[0m \u001b[31m7.4 MB/s\u001b[0m eta \u001b[36m0:00:00\u001b[0m\n",
            "\u001b[2K   \u001b[90m━━━━━━━━━━━━━━━━━━━━━━━━━━━━━━━━━━━━━━━━\u001b[0m \u001b[32m2.4/2.4 MB\u001b[0m \u001b[31m49.5 MB/s\u001b[0m eta \u001b[36m0:00:00\u001b[0m\n",
            "\u001b[2K   \u001b[90m━━━━━━━━━━━━━━━━━━━━━━━━━━━━━━━━━━━━━━━━\u001b[0m \u001b[32m207.3/207.3 kB\u001b[0m \u001b[31m13.3 MB/s\u001b[0m eta \u001b[36m0:00:00\u001b[0m\n",
            "\u001b[2K   \u001b[90m━━━━━━━━━━━━━━━━━━━━━━━━━━━━━━━━━━━━━━━━\u001b[0m \u001b[32m1.2/1.2 MB\u001b[0m \u001b[31m42.3 MB/s\u001b[0m eta \u001b[36m0:00:00\u001b[0m\n",
            "\u001b[2K   \u001b[90m━━━━━━━━━━━━━━━━━━━━━━━━━━━━━━━━━━━━━━━━\u001b[0m \u001b[32m294.6/294.6 kB\u001b[0m \u001b[31m16.8 MB/s\u001b[0m eta \u001b[36m0:00:00\u001b[0m\n",
            "\u001b[2K   \u001b[90m━━━━━━━━━━━━━━━━━━━━━━━━━━━━━━━━━━━━━━━━\u001b[0m \u001b[32m46.0/46.0 kB\u001b[0m \u001b[31m2.8 MB/s\u001b[0m eta \u001b[36m0:00:00\u001b[0m\n",
            "\u001b[2K   \u001b[90m━━━━━━━━━━━━━━━━━━━━━━━━━━━━━━━━━━━━━━━━\u001b[0m \u001b[32m59.5/59.5 kB\u001b[0m \u001b[31m3.8 MB/s\u001b[0m eta \u001b[36m0:00:00\u001b[0m\n",
            "\u001b[2K   \u001b[90m━━━━━━━━━━━━━━━━━━━━━━━━━━━━━━━━━━━━━━━━\u001b[0m \u001b[32m94.6/94.6 kB\u001b[0m \u001b[31m6.1 MB/s\u001b[0m eta \u001b[36m0:00:00\u001b[0m\n",
            "\u001b[2K   \u001b[90m━━━━━━━━━━━━━━━━━━━━━━━━━━━━━━━━━━━━━━━━\u001b[0m \u001b[32m62.7/62.7 kB\u001b[0m \u001b[31m4.3 MB/s\u001b[0m eta \u001b[36m0:00:00\u001b[0m\n",
            "\u001b[2K   \u001b[90m━━━━━━━━━━━━━━━━━━━━━━━━━━━━━━━━━━━━━━━━\u001b[0m \u001b[32m58.3/58.3 kB\u001b[0m \u001b[31m3.5 MB/s\u001b[0m eta \u001b[36m0:00:00\u001b[0m\n",
            "\u001b[2K   \u001b[90m━━━━━━━━━━━━━━━━━━━━━━━━━━━━━━━━━━━━━━━━\u001b[0m \u001b[32m76.4/76.4 kB\u001b[0m \u001b[31m5.6 MB/s\u001b[0m eta \u001b[36m0:00:00\u001b[0m\n",
            "\u001b[2K   \u001b[90m━━━━━━━━━━━━━━━━━━━━━━━━━━━━━━━━━━━━━━━━\u001b[0m \u001b[32m78.0/78.0 kB\u001b[0m \u001b[31m4.3 MB/s\u001b[0m eta \u001b[36m0:00:00\u001b[0m\n",
            "\u001b[2K   \u001b[90m━━━━━━━━━━━━━━━━━━━━━━━━━━━━━━━━━━━━━━━━\u001b[0m \u001b[32m49.3/49.3 kB\u001b[0m \u001b[31m2.7 MB/s\u001b[0m eta \u001b[36m0:00:00\u001b[0m\n",
            "\u001b[2K   \u001b[90m━━━━━━━━━━━━━━━━━━━━━━━━━━━━━━━━━━━━━━━━\u001b[0m \u001b[32m378.0/378.0 kB\u001b[0m \u001b[31m20.6 MB/s\u001b[0m eta \u001b[36m0:00:00\u001b[0m\n",
            "\u001b[2K   \u001b[90m━━━━━━━━━━━━━━━━━━━━━━━━━━━━━━━━━━━━━━━━\u001b[0m \u001b[32m141.9/141.9 kB\u001b[0m \u001b[31m8.5 MB/s\u001b[0m eta \u001b[36m0:00:00\u001b[0m\n",
            "\u001b[2K   \u001b[90m━━━━━━━━━━━━━━━━━━━━━━━━━━━━━━━━━━━━━━━━\u001b[0m \u001b[32m54.5/54.5 kB\u001b[0m \u001b[31m3.6 MB/s\u001b[0m eta \u001b[36m0:00:00\u001b[0m\n",
            "\u001b[2K   \u001b[90m━━━━━━━━━━━━━━━━━━━━━━━━━━━━━━━━━━━━━━━━\u001b[0m \u001b[32m71.5/71.5 kB\u001b[0m \u001b[31m4.8 MB/s\u001b[0m eta \u001b[36m0:00:00\u001b[0m\n",
            "\u001b[?25h"
          ]
        }
      ]
    },
    {
      "cell_type": "code",
      "source": [
        "!pip install -q openai langchain_openai langchain-anthropic langchain-mistralai"
      ],
      "metadata": {
        "colab": {
          "base_uri": "https://localhost:8080/"
        },
        "id": "eeBXv7XEH75Q",
        "outputId": "d63869bc-0027-42e4-fac1-6f4c8992eab7"
      },
      "execution_count": 3,
      "outputs": [
        {
          "output_type": "stream",
          "name": "stdout",
          "text": [
            "\u001b[?25l   \u001b[90m━━━━━━━━━━━━━━━━━━━━━━━━━━━━━━━━━━━━━━━━\u001b[0m \u001b[32m0.0/383.5 kB\u001b[0m \u001b[31m?\u001b[0m eta \u001b[36m-:--:--\u001b[0m\r\u001b[2K   \u001b[91m━━━━━━━━━━━━━━━━━━━━━━━━━━━━━━━━━━━━━━━\u001b[0m\u001b[91m╸\u001b[0m \u001b[32m378.9/383.5 kB\u001b[0m \u001b[31m12.4 MB/s\u001b[0m eta \u001b[36m0:00:01\u001b[0m\r\u001b[2K   \u001b[90m━━━━━━━━━━━━━━━━━━━━━━━━━━━━━━━━━━━━━━━━\u001b[0m \u001b[32m383.5/383.5 kB\u001b[0m \u001b[31m6.4 MB/s\u001b[0m eta \u001b[36m0:00:00\u001b[0m\n",
            "\u001b[2K   \u001b[90m━━━━━━━━━━━━━━━━━━━━━━━━━━━━━━━━━━━━━━━━\u001b[0m \u001b[32m49.6/49.6 kB\u001b[0m \u001b[31m3.4 MB/s\u001b[0m eta \u001b[36m0:00:00\u001b[0m\n",
            "\u001b[2K   \u001b[90m━━━━━━━━━━━━━━━━━━━━━━━━━━━━━━━━━━━━━━━━\u001b[0m \u001b[32m894.0/894.0 kB\u001b[0m \u001b[31m14.2 MB/s\u001b[0m eta \u001b[36m0:00:00\u001b[0m\n",
            "\u001b[2K   \u001b[90m━━━━━━━━━━━━━━━━━━━━━━━━━━━━━━━━━━━━━━━━\u001b[0m \u001b[32m318.9/318.9 kB\u001b[0m \u001b[31m16.0 MB/s\u001b[0m eta \u001b[36m0:00:00\u001b[0m\n",
            "\u001b[2K   \u001b[90m━━━━━━━━━━━━━━━━━━━━━━━━━━━━━━━━━━━━━━━━\u001b[0m \u001b[32m1.2/1.2 MB\u001b[0m \u001b[31m33.9 MB/s\u001b[0m eta \u001b[36m0:00:00\u001b[0m\n",
            "\u001b[?25h"
          ]
        }
      ]
    },
    {
      "cell_type": "code",
      "source": [
        "!pip install -q duckduckgo-search"
      ],
      "metadata": {
        "colab": {
          "base_uri": "https://localhost:8080/"
        },
        "id": "bmWZIBxcH-Tz",
        "outputId": "a8909cb1-4c45-4887-aa6d-6635af817385"
      },
      "execution_count": 4,
      "outputs": [
        {
          "output_type": "stream",
          "name": "stdout",
          "text": [
            "\u001b[?25l   \u001b[90m━━━━━━━━━━━━━━━━━━━━━━━━━━━━━━━━━━━━━━━━\u001b[0m \u001b[32m0.0/2.8 MB\u001b[0m \u001b[31m?\u001b[0m eta \u001b[36m-:--:--\u001b[0m\r\u001b[2K   \u001b[91m━━━━━\u001b[0m\u001b[91m╸\u001b[0m\u001b[90m━━━━━━━━━━━━━━━━━━━━━━━━━━━━━━━━━━\u001b[0m \u001b[32m0.4/2.8 MB\u001b[0m \u001b[31m12.2 MB/s\u001b[0m eta \u001b[36m0:00:01\u001b[0m\r\u001b[2K   \u001b[91m━━━━━━━━━━━━━━━━━━━━━━━━━━━━━━━━━━━\u001b[0m\u001b[91m╸\u001b[0m\u001b[90m━━━━\u001b[0m \u001b[32m2.5/2.8 MB\u001b[0m \u001b[31m36.3 MB/s\u001b[0m eta \u001b[36m0:00:01\u001b[0m\r\u001b[2K   \u001b[91m━━━━━━━━━━━━━━━━━━━━━━━━━━━━━━━━━━━━━━━\u001b[0m\u001b[91m╸\u001b[0m \u001b[32m2.8/2.8 MB\u001b[0m \u001b[31m37.4 MB/s\u001b[0m eta \u001b[36m0:00:01\u001b[0m\r\u001b[2K   \u001b[90m━━━━━━━━━━━━━━━━━━━━━━━━━━━━━━━━━━━━━━━━\u001b[0m \u001b[32m2.8/2.8 MB\u001b[0m \u001b[31m25.5 MB/s\u001b[0m eta \u001b[36m0:00:00\u001b[0m\n",
            "\u001b[?25h"
          ]
        }
      ]
    },
    {
      "cell_type": "code",
      "source": [
        "!pip install -q streamlit"
      ],
      "metadata": {
        "colab": {
          "base_uri": "https://localhost:8080/"
        },
        "id": "0GZdID5pIMai",
        "outputId": "f4aa3d5c-5a56-4181-a0c8-3850ac295f0d"
      },
      "execution_count": 5,
      "outputs": [
        {
          "output_type": "stream",
          "name": "stdout",
          "text": [
            "\u001b[2K     \u001b[90m━━━━━━━━━━━━━━━━━━━━━━━━━━━━━━━━━━━━━━━━\u001b[0m \u001b[32m41.9/41.9 kB\u001b[0m \u001b[31m2.3 MB/s\u001b[0m eta \u001b[36m0:00:00\u001b[0m\n",
            "\u001b[2K   \u001b[90m━━━━━━━━━━━━━━━━━━━━━━━━━━━━━━━━━━━━━━━━\u001b[0m \u001b[32m8.7/8.7 MB\u001b[0m \u001b[31m41.6 MB/s\u001b[0m eta \u001b[36m0:00:00\u001b[0m\n",
            "\u001b[2K   \u001b[90m━━━━━━━━━━━━━━━━━━━━━━━━━━━━━━━━━━━━━━━━\u001b[0m \u001b[32m6.9/6.9 MB\u001b[0m \u001b[31m52.5 MB/s\u001b[0m eta \u001b[36m0:00:00\u001b[0m\n",
            "\u001b[2K   \u001b[90m━━━━━━━━━━━━━━━━━━━━━━━━━━━━━━━━━━━━━━━━\u001b[0m \u001b[32m79.3/79.3 kB\u001b[0m \u001b[31m4.0 MB/s\u001b[0m eta \u001b[36m0:00:00\u001b[0m\n",
            "\u001b[?25h"
          ]
        }
      ]
    },
    {
      "cell_type": "code",
      "source": [
        "import os\n",
        "from google.colab import userdata\n",
        "\n",
        "os.environ[\"ACCESS_TOKEN\"] = userdata.get('LINKEDIN_ACCESS_TOKEN')\n",
        "os.environ[\"ANTHROPIC_API_KEY\"] = userdata.get('ANTHROPIC_API_KEY')"
      ],
      "metadata": {
        "id": "Iw_VROkxHy6y"
      },
      "execution_count": 6,
      "outputs": []
    },
    {
      "cell_type": "markdown",
      "source": [
        "#Streamlit Application"
      ],
      "metadata": {
        "id": "ZvHTNq9sh13l"
      }
    },
    {
      "cell_type": "markdown",
      "source": [
        "## Create App"
      ],
      "metadata": {
        "id": "lC47C_49h-La"
      }
    },
    {
      "cell_type": "code",
      "source": [
        "%%writefile linkedInPostCreator.py\n",
        "import streamlit as st\n",
        "from linkedin_api.clients.restli.client import RestliClient\n",
        "from duckduckgo_search import AsyncDDGS\n",
        "from langgraph.prebuilt import create_react_agent\n",
        "from langchain_openai import ChatOpenAI\n",
        "from langchain_anthropic import ChatAnthropic\n",
        "from langchain_mistralai.chat_models import ChatMistralAI\n",
        "from langchain.tools import BaseTool, StructuredTool, tool\n",
        "from langchain_core.prompts import ChatPromptTemplate, MessagesPlaceholder\n",
        "from langchain_core.messages import BaseMessage, HumanMessage\n",
        "import asyncio\n",
        "import datetime\n",
        "import json\n",
        "import os\n",
        "import time\n",
        "import re\n",
        "\n",
        "ACCESS_TOKEN = os.getenv(\"ACCESS_TOKEN\")\n",
        "\n",
        "#LinkedIn Utils\n",
        "restli_client = RestliClient()\n",
        "\n",
        "def get_person_urn(ACCESS_TOKEN):\n",
        "  response = restli_client.get(\n",
        "      resource_path=\"/userinfo\",\n",
        "      access_token=ACCESS_TOKEN\n",
        "    )\n",
        "  return response.entity['sub']\n",
        "\n",
        "def create_text_post(urn, content,ACCESS_TOKEN):\n",
        "  response = restli_client.create(\n",
        "        resource_path=\"/posts\",\n",
        "        entity={\n",
        "            \"author\": f\"urn:li:person:{urn}\",\n",
        "            \"lifecycleState\": \"PUBLISHED\",\n",
        "            \"visibility\": \"PUBLIC\",\n",
        "            \"commentary\": content,\n",
        "            \"distribution\": {\n",
        "                \"feedDistribution\": \"MAIN_FEED\",\n",
        "                \"targetEntities\": [],\n",
        "                \"thirdPartyDistributionChannels\": [],\n",
        "            },\n",
        "        },\n",
        "        access_token=ACCESS_TOKEN,\n",
        "    )\n",
        "  status = response.status_code\n",
        "  post_id = response.entity_id\n",
        "  return status, post_id\n",
        "\n",
        "# duckduckgo utils\n",
        "async def aget_results(word):\n",
        "    \"\"\"\n",
        "    Asynchronously fetch search results from DuckDuckGo for a given word.\n",
        "\n",
        "    Args:\n",
        "        word (str): The search query.\n",
        "\n",
        "    Returns:\n",
        "        list: A list of search results (max 4) for the given query.\n",
        "    \"\"\"\n",
        "    results = await AsyncDDGS(proxy=None).atext(word, max_results=4)\n",
        "    return results\n",
        "\n",
        "async def search(queries):\n",
        "    \"\"\"\n",
        "    Perform asynchronous searches for multiple queries.\n",
        "\n",
        "    Args:\n",
        "        queries (list): A list of search queries.\n",
        "\n",
        "    Returns:\n",
        "        list: A list of search results for each query.\n",
        "    \"\"\"\n",
        "    words = queries\n",
        "    tasks = [aget_results(w) for w in words]\n",
        "    results = await asyncio.gather(*tasks)\n",
        "    return results\n",
        "\n",
        "\n",
        "#ReACT Agent\n",
        "@tool\n",
        "def search_tool(query):\n",
        "    \"\"\"\n",
        "    A search tool that finds up-to-date information on a given topic.\n",
        "\n",
        "    This function takes a search query, combines it with today's date, and returns\n",
        "    relevant search results. It's useful for finding current information on any topic.\n",
        "\n",
        "    Args:\n",
        "        query (str): The search query string. This should be the main topic or\n",
        "                     keywords for the search operation.\n",
        "\n",
        "    Returns:\n",
        "        list: A list of search results related to the query and today's date.\n",
        "    \"\"\"\n",
        "    today = datetime.datetime.now().strftime(\"%d %B %Y\")\n",
        "    word = f\"{query}, date : {today}\"\n",
        "    results = asyncio.run(aget_results(word))\n",
        "    return results\n",
        "\n",
        "llm = ChatAnthropic(temperature=0, model_name=\"claude-3-5-sonnet-20240620\", max_tokens=4096)\n",
        "#llm = ChatMistralAI(api_key=os.environ.get('MISTRAL_API_KEY'),model=\"mistral-large-latest\",temperature=0)\n",
        "#llm = ChatOpenAI(model=\"gpt-4o-mini\",temperature=0, streaming=True)\n",
        "\n",
        "# setup the toolkit\n",
        "tools = [search_tool]\n",
        "\n",
        "# Create a react agent\n",
        "post_writer = create_react_agent(llm, tools=tools)\n",
        "\n",
        "def print_stream(stream):\n",
        "    for s in stream:\n",
        "        message = s[\"messages\"][-1]\n",
        "        if isinstance(message, tuple):\n",
        "            print(message)\n",
        "        else:\n",
        "            message.pretty_print()\n",
        "    return message\n",
        "\n",
        "system_prompt = \"\"\"You are a LinkedIn post writing Assistant.\n",
        "Given a topic or post concept, create a LinkedIn post in the tone specified in less than 150 words.\n",
        "You also have access to a internet search tool to help you find up-to-date information on a given topic.\n",
        "Mention the sources for your data. Ensure you add the URL for the data source.\n",
        "IMPORTANT:\n",
        "Place the entire LinkedIn post between <LINKEDIN POST> and </LINKEDIN POST> tags.\n",
        "\"\"\"\n",
        "\n",
        "def escape_text(text):\n",
        "    chars = [\"\\\\\", \"|\", \"{\", \"}\", \"@\", \"[\", \"]\", \"(\", \")\", \"<\", \">\", \"#\", \"*\", \"_\", \"~\"]\n",
        "    for char in chars:\n",
        "        text = text.replace(char, \"\\\\\"+char)\n",
        "    return text\n",
        "\n",
        "def post(linkedin_post):\n",
        "    content = escape_text(linkedin_post)\n",
        "    try:\n",
        "        print(\"Getting URN\")\n",
        "        urn = get_person_urn(ACCESS_TOKEN)\n",
        "        status, post_id = create_text_post(urn, content, ACCESS_TOKEN)\n",
        "        print(f\"The Post Status: {status} and Post ID: {post_id}\")\n",
        "        return status, post_id\n",
        "    except Exception as e:\n",
        "        print(f\"An error occurred: {str(e)}\")\n",
        "        raise  # Re-raise the exception to be caught in the main function\n",
        "\n",
        "# Main Streamlit app\n",
        "def main():\n",
        "    st.title(\"LinkedIn Post Creator\")\n",
        "\n",
        "    # Initialize session state\n",
        "    if 'edited_output' not in st.session_state:\n",
        "        st.session_state.edited_output = \"\"\n",
        "    if 'post_status' not in st.session_state:\n",
        "        st.session_state.status = None\n",
        "    if 'post_id' not in st.session_state:\n",
        "        st.session_state.post_id = None\n",
        "    if 'show_post_button' not in st.session_state:\n",
        "        st.session_state.show_post_button = False\n",
        "\n",
        "    # Text input for post description\n",
        "    post_description = st.text_input(\"Post Description\")\n",
        "\n",
        "    # Dropdown for post tone\n",
        "    post_tone = st.selectbox(\"Post Tone\", [\"Enthusiastic\", \"Thoughtful\", \"Educational\", \"Assertive\", \"Professional\", \"Funny\"])\n",
        "\n",
        "    # Create button\n",
        "    if st.button(\"Create\"):\n",
        "        user_prompt = f\"Topic/Post Concept : <topic> {post_description} </topic> Tone : <tone> {post_tone} </tone>\"\n",
        "        inputs = {\"messages\": [(\"system\", system_prompt),(\"user\", user_prompt)]}\n",
        "        config = {\"recursion_limit\": 100}\n",
        "\n",
        "        # Print the stream and get the final output\n",
        "        final_output = print_stream(post_writer.stream(inputs,config, stream_mode=\"values\"))\n",
        "\n",
        "        # Display the final output in an editable text area\n",
        "        st.subheader(\"Generated Post\")\n",
        "        linkedin_post_match = re.search(r'<LINKEDIN POST>(.*?)</LINKEDIN POST>', final_output.content, re.DOTALL)\n",
        "        linkedin_post = linkedin_post_match.group(1).strip()\n",
        "        st.session_state.edited_output = linkedin_post\n",
        "        st.session_state.show_post_button = True\n",
        "\n",
        "    # Text area for editing (only shown after Create button is pressed)\n",
        "    if st.session_state.show_post_button:\n",
        "        st.session_state.edited_output = st.text_area(\"Edit your post here:\", value=st.session_state.edited_output, height=500, key=\"editable_text_area\")\n",
        "\n",
        "    # Post button (only shown after Create button is pressed)\n",
        "    if st.session_state.show_post_button is True:\n",
        "        if st.button(\"Post\"):\n",
        "            if st.session_state.edited_output:\n",
        "                st.session_state.status, st.session_state.post_id = post(st.session_state.edited_output)\n",
        "                if st.session_state.status and st.session_state.post_id:\n",
        "                    st.write(f\"The Post Status: {st.session_state.status} and Post ID: {st.session_state.post_id}\")\n",
        "                    st.session_state.show_post_button = False\n",
        "\n",
        "if __name__ == \"__main__\":\n",
        "    main()"
      ],
      "metadata": {
        "colab": {
          "base_uri": "https://localhost:8080/"
        },
        "id": "x2i3v29MIimZ",
        "outputId": "7fcaacda-6294-43e7-8196-2566ca887040"
      },
      "execution_count": 10,
      "outputs": [
        {
          "output_type": "stream",
          "name": "stdout",
          "text": [
            "Overwriting linkedInPostCreator.py\n"
          ]
        }
      ]
    },
    {
      "cell_type": "markdown",
      "source": [
        "## Run App"
      ],
      "metadata": {
        "id": "PLG0D394iB38"
      }
    },
    {
      "cell_type": "code",
      "source": [
        "# workaround\n",
        "import locale\n",
        "locale.getpreferredencoding = lambda: \"UTF-8\"\n",
        "!ls"
      ],
      "metadata": {
        "colab": {
          "base_uri": "https://localhost:8080/"
        },
        "id": "8CGFgI-qOQoh",
        "outputId": "1396b2bc-71c9-486f-88ba-45b03e3a6a02"
      },
      "execution_count": 11,
      "outputs": [
        {
          "output_type": "stream",
          "name": "stdout",
          "text": [
            "linkedInPostCreator.py\tsample_data\n"
          ]
        }
      ]
    },
    {
      "cell_type": "code",
      "source": [
        "!streamlit run linkedInPostCreator.py & npx localtunnel --port 8501"
      ],
      "metadata": {
        "colab": {
          "base_uri": "https://localhost:8080/"
        },
        "id": "aBFizYepOT9R",
        "outputId": "136ecfff-8094-424d-b51b-a1e1fd1e6930"
      },
      "execution_count": 12,
      "outputs": [
        {
          "output_type": "stream",
          "name": "stdout",
          "text": [
            "\n",
            "Collecting usage statistics. To deactivate, set browser.gatherUsageStats to false.\n",
            "\u001b[0m\n",
            "\u001b[0m\n",
            "\u001b[34m\u001b[1m  You can now view your Streamlit app in your browser.\u001b[0m\n",
            "\u001b[0m\n",
            "\u001b[34m  Local URL: \u001b[0m\u001b[1mhttp://localhost:8501\u001b[0m\n",
            "\u001b[34m  Network URL: \u001b[0m\u001b[1mhttp://172.28.0.12:8501\u001b[0m\n",
            "\u001b[34m  External URL: \u001b[0m\u001b[1mhttp://34.80.199.165:8501\u001b[0m\n",
            "\u001b[0m\n",
            "your url is: https://silver-moments-beg.loca.lt\n",
            "\u001b[34m  Stopping...\u001b[0m\n",
            "^C\n"
          ]
        }
      ]
    }
  ]
}